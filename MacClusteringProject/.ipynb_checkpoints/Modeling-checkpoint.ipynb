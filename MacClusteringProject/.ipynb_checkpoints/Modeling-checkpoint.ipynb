{
 "cells": [
  {
   "cell_type": "code",
   "execution_count": 89,
   "metadata": {},
   "outputs": [],
   "source": [
    "import pandas as pd\n",
    "import numpy as np\n",
    "from sklearn.model_selection import train_test_split, ShuffleSplit, cross_validate,cross_val_score\n",
    "from sklearn.tree import DecisionTreeClassifier\n",
    "from sklearn.linear_model import LogisticRegression\n",
    "from sklearn import metrics, svm\n",
    "from sklearn.metrics import accuracy_score\n",
    "from sklearn import preprocessing\n",
    "from sklearn import tree\n",
    "from sklearn.ensemble import GradientBoostingClassifier, RandomForestClassifier\n",
    "from sklearn.naive_bayes import GaussianNB\n",
    "import seaborn\n",
    "from matplotlib import pyplot\n",
    "import matplotlib.pyplot as plt\n",
    "from sklearn.cluster import KMeans, DBSCAN\n",
    "from sklearn.feature_selection import chi2, SelectKBest, SelectFdr\n",
    "from sklearn.decomposition import PCA\n",
    "from rake_nltk import Rake"
   ]
  },
  {
   "cell_type": "markdown",
   "metadata": {},
   "source": [
    "Import data as data frame"
   ]
  },
  {
   "cell_type": "code",
   "execution_count": 2,
   "metadata": {},
   "outputs": [
    {
     "data": {
      "text/html": [
       "<div>\n",
       "<style scoped>\n",
       "    .dataframe tbody tr th:only-of-type {\n",
       "        vertical-align: middle;\n",
       "    }\n",
       "\n",
       "    .dataframe tbody tr th {\n",
       "        vertical-align: top;\n",
       "    }\n",
       "\n",
       "    .dataframe thead th {\n",
       "        text-align: right;\n",
       "    }\n",
       "</style>\n",
       "<table border=\"1\" class=\"dataframe\">\n",
       "  <thead>\n",
       "    <tr style=\"text-align: right;\">\n",
       "      <th></th>\n",
       "      <th>Number</th>\n",
       "      <th>Priority</th>\n",
       "      <th>Business service</th>\n",
       "      <th>Category</th>\n",
       "      <th>Company</th>\n",
       "      <th>Created</th>\n",
       "      <th>Created by</th>\n",
       "      <th>Impact</th>\n",
       "      <th>Impacted OpCos</th>\n",
       "      <th>Major Problem</th>\n",
       "      <th>Parent</th>\n",
       "      <th>Problem Manager</th>\n",
       "      <th>Related Incidents</th>\n",
       "      <th>Type</th>\n",
       "      <th>Urgency</th>\n",
       "    </tr>\n",
       "  </thead>\n",
       "  <tbody>\n",
       "    <tr>\n",
       "      <th>0</th>\n",
       "      <td>PRB0063212</td>\n",
       "      <td>5 - Planning</td>\n",
       "      <td>Server</td>\n",
       "      <td>Hardware</td>\n",
       "      <td>FedEx Services</td>\n",
       "      <td>2019-02-13 08:47:23</td>\n",
       "      <td>5163721</td>\n",
       "      <td>3 - Low</td>\n",
       "      <td>FedEx Services</td>\n",
       "      <td>True</td>\n",
       "      <td>INC011242667</td>\n",
       "      <td>Christopher Barber</td>\n",
       "      <td>1</td>\n",
       "      <td>ITCC</td>\n",
       "      <td>3 - Low</td>\n",
       "    </tr>\n",
       "    <tr>\n",
       "      <th>1</th>\n",
       "      <td>PRB0063211</td>\n",
       "      <td>5 - Planning</td>\n",
       "      <td>Database</td>\n",
       "      <td>Application</td>\n",
       "      <td>NaN</td>\n",
       "      <td>2019-02-13 08:49:50</td>\n",
       "      <td>3619116</td>\n",
       "      <td>3 - Low</td>\n",
       "      <td>FedEx Express APAC</td>\n",
       "      <td>False</td>\n",
       "      <td>NaN</td>\n",
       "      <td>Sathya Easwaran</td>\n",
       "      <td>0</td>\n",
       "      <td>Standard</td>\n",
       "      <td>3 - Low</td>\n",
       "    </tr>\n",
       "    <tr>\n",
       "      <th>2</th>\n",
       "      <td>PRB0063210</td>\n",
       "      <td>5 - Planning</td>\n",
       "      <td>Computer</td>\n",
       "      <td>Hardware</td>\n",
       "      <td>FedEx Services</td>\n",
       "      <td>2019-02-13 06:51:16</td>\n",
       "      <td>5163721</td>\n",
       "      <td>3 - Low</td>\n",
       "      <td>FedEx Ground</td>\n",
       "      <td>True</td>\n",
       "      <td>INC011241950</td>\n",
       "      <td>Divakar Durgapal</td>\n",
       "      <td>1</td>\n",
       "      <td>ITCC</td>\n",
       "      <td>3 - Low</td>\n",
       "    </tr>\n",
       "    <tr>\n",
       "      <th>3</th>\n",
       "      <td>PRB0063205</td>\n",
       "      <td>5 - Planning</td>\n",
       "      <td>Switch</td>\n",
       "      <td>Network</td>\n",
       "      <td>FedEx Services</td>\n",
       "      <td>2019-02-12 22:00:36</td>\n",
       "      <td>3667964</td>\n",
       "      <td>3 - Low</td>\n",
       "      <td>FedEx Ground</td>\n",
       "      <td>True</td>\n",
       "      <td>INC011240331</td>\n",
       "      <td>Christopher Barber</td>\n",
       "      <td>1</td>\n",
       "      <td>ITCC</td>\n",
       "      <td>3 - Low</td>\n",
       "    </tr>\n",
       "    <tr>\n",
       "      <th>4</th>\n",
       "      <td>PRB0063204</td>\n",
       "      <td>5 - Planning</td>\n",
       "      <td>Server</td>\n",
       "      <td>Hardware</td>\n",
       "      <td>FedEx Services</td>\n",
       "      <td>2019-02-12 21:03:05</td>\n",
       "      <td>836059</td>\n",
       "      <td>3 - Low</td>\n",
       "      <td>FedEx Freight Inc., FedEx Office</td>\n",
       "      <td>True</td>\n",
       "      <td>INC011239460</td>\n",
       "      <td>Christopher Barber</td>\n",
       "      <td>1</td>\n",
       "      <td>ITCC</td>\n",
       "      <td>3 - Low</td>\n",
       "    </tr>\n",
       "  </tbody>\n",
       "</table>\n",
       "</div>"
      ],
      "text/plain": [
       "       Number      Priority Business service     Category         Company  \\\n",
       "0  PRB0063212  5 - Planning           Server     Hardware  FedEx Services   \n",
       "1  PRB0063211  5 - Planning         Database  Application             NaN   \n",
       "2  PRB0063210  5 - Planning         Computer     Hardware  FedEx Services   \n",
       "3  PRB0063205  5 - Planning           Switch      Network  FedEx Services   \n",
       "4  PRB0063204  5 - Planning           Server     Hardware  FedEx Services   \n",
       "\n",
       "               Created Created by   Impact                    Impacted OpCos  \\\n",
       "0  2019-02-13 08:47:23    5163721  3 - Low                    FedEx Services   \n",
       "1  2019-02-13 08:49:50    3619116  3 - Low                FedEx Express APAC   \n",
       "2  2019-02-13 06:51:16    5163721  3 - Low                      FedEx Ground   \n",
       "3  2019-02-12 22:00:36    3667964  3 - Low                      FedEx Ground   \n",
       "4  2019-02-12 21:03:05     836059  3 - Low  FedEx Freight Inc., FedEx Office   \n",
       "\n",
       "   Major Problem        Parent     Problem Manager  Related Incidents  \\\n",
       "0           True  INC011242667  Christopher Barber                  1   \n",
       "1          False           NaN     Sathya Easwaran                  0   \n",
       "2           True  INC011241950    Divakar Durgapal                  1   \n",
       "3           True  INC011240331  Christopher Barber                  1   \n",
       "4           True  INC011239460  Christopher Barber                  1   \n",
       "\n",
       "       Type  Urgency  \n",
       "0      ITCC  3 - Low  \n",
       "1  Standard  3 - Low  \n",
       "2      ITCC  3 - Low  \n",
       "3      ITCC  3 - Low  \n",
       "4      ITCC  3 - Low  "
      ]
     },
     "execution_count": 2,
     "metadata": {},
     "output_type": "execute_result"
    }
   ],
   "source": [
    "# dataPath = \"/mnt/c/Users/LJUDY/OneDrive/MyStuff/Work/FedEx/Shift Lead/Clustering Project/\"\n",
    "simplefile = \"problem_pdsm_simple.csv\"\n",
    "\n",
    "data = pd.read_csv(simplefile)\n",
    "data.head()"
   ]
  },
  {
   "cell_type": "markdown",
   "metadata": {},
   "source": [
    "## Set up for modeling"
   ]
  },
  {
   "cell_type": "markdown",
   "metadata": {},
   "source": [
    "### Split up dependent and independent variables"
   ]
  },
  {
   "cell_type": "code",
   "execution_count": null,
   "metadata": {},
   "outputs": [],
   "source": [
    "y = data['Category']\n",
    "x = data.drop('Category', axis=1)"
   ]
  },
  {
   "cell_type": "markdown",
   "metadata": {},
   "source": [
    "### Dummy variables for categories"
   ]
  },
  {
   "cell_type": "code",
   "execution_count": null,
   "metadata": {},
   "outputs": [],
   "source": [
    "x = pd.get_dummies(x, columns=['Business service', 'Company', 'Problem Manager', 'Type'])\n",
    "x.head()"
   ]
  },
  {
   "cell_type": "markdown",
   "metadata": {},
   "source": [
    "## Model using K-means"
   ]
  },
  {
   "cell_type": "code",
   "execution_count": null,
   "metadata": {},
   "outputs": [],
   "source": [
    "model = KMeans(n_clusters=8)\n",
    "model.fit(x)"
   ]
  },
  {
   "cell_type": "code",
   "execution_count": null,
   "metadata": {},
   "outputs": [],
   "source": [
    "smallX = x.drop('Created', axis=1)"
   ]
  },
  {
   "cell_type": "code",
   "execution_count": null,
   "metadata": {},
   "outputs": [],
   "source": [
    "model = KMeans(n_clusters=8)\n",
    "model.fit(smallX)"
   ]
  },
  {
   "cell_type": "code",
   "execution_count": null,
   "metadata": {},
   "outputs": [],
   "source": [
    "data['kmeans'] = model.labels_"
   ]
  },
  {
   "cell_type": "code",
   "execution_count": null,
   "metadata": {},
   "outputs": [],
   "source": [
    "metrics.adjusted_rand_score(data['Category'],data['kmeans'])"
   ]
  },
  {
   "cell_type": "code",
   "execution_count": null,
   "metadata": {},
   "outputs": [],
   "source": [
    "pca = PCA()\n",
    "pca.fit(smallX)"
   ]
  },
  {
   "cell_type": "code",
   "execution_count": null,
   "metadata": {},
   "outputs": [],
   "source": [
    "pca.explained_variance_ratio_"
   ]
  },
  {
   "cell_type": "code",
   "execution_count": null,
   "metadata": {},
   "outputs": [],
   "source": [
    "pca = PCA(n_components=2)\n",
    "pca.fit(smallX)"
   ]
  },
  {
   "cell_type": "code",
   "execution_count": null,
   "metadata": {},
   "outputs": [],
   "source": [
    "pca.explained_variance_ratio_"
   ]
  },
  {
   "cell_type": "code",
   "execution_count": null,
   "metadata": {},
   "outputs": [],
   "source": [
    "transformed = pca.transform(smallX)"
   ]
  },
  {
   "cell_type": "code",
   "execution_count": null,
   "metadata": {},
   "outputs": [],
   "source": [
    "km = KMeans(n_clusters=8)\n",
    "km.fit(transformed)\n",
    "data['pca'] = km.labels_"
   ]
  },
  {
   "cell_type": "code",
   "execution_count": null,
   "metadata": {},
   "outputs": [],
   "source": [
    "metrics.adjusted_rand_score(data['Category'],data['kmeans'])"
   ]
  },
  {
   "cell_type": "markdown",
   "metadata": {},
   "source": [
    "### Classify using Decision Tree"
   ]
  },
  {
   "cell_type": "code",
   "execution_count": 83,
   "metadata": {},
   "outputs": [
    {
     "data": {
      "text/plain": [
       "Number                  int64\n",
       "Priority                int64\n",
       "Business service     category\n",
       "Category             category\n",
       "Company              category\n",
       "Created Time         category\n",
       "Created by              int64\n",
       "Impact                  int64\n",
       "Major Problem            bool\n",
       "Problem Manager      category\n",
       "Related Incidents       int64\n",
       "Type                 category\n",
       "Urgency                 int64\n",
       "Incidents Count         int64\n",
       "Assignment group     category\n",
       "Duration Mean         float64\n",
       "Has Parent               bool\n",
       "dtype: object"
      ]
     },
     "execution_count": 83,
     "metadata": {},
     "output_type": "execute_result"
    }
   ],
   "source": [
    "data = data.drop(['Created', 'Duration Max', 'Duration Min', 'Duration Range',\n",
    "                  'Short description', 'Keywords'], axis=1)\n",
    "data.dtypes"
   ]
  },
  {
   "cell_type": "code",
   "execution_count": 90,
   "metadata": {},
   "outputs": [],
   "source": [
    "data = data.set_index('Number')"
   ]
  },
  {
   "cell_type": "code",
   "execution_count": 96,
   "metadata": {},
   "outputs": [
    {
     "data": {
      "text/plain": [
       "array([[5, 'Server', 'FedEx Services', ..., 'Other', 3346.0, True],\n",
       "       [5, 'Computer', 'FedEx Services', ..., 'Other', 7250.0, True],\n",
       "       [5, 'Switch', 'FedEx Services', ..., 'FXS_SPT_GLB_NOCL1', 6856.0,\n",
       "        True],\n",
       "       ...,\n",
       "       [5, 'Database', 'FedEx Services', ..., 'Other', 3885203.846153846,\n",
       "        True],\n",
       "       [5, 'Scanner', 'FedEx Services', ..., 'Other', 9075.0, True],\n",
       "       [5, 'Communication Device', 'FedEx Express', ..., 'Other',\n",
       "        2474298.0, True]], dtype=object)"
      ]
     },
     "execution_count": 96,
     "metadata": {},
     "output_type": "execute_result"
    }
   ],
   "source": [
    "X = data.drop('Category', axis=1).values\n",
    "X"
   ]
  },
  {
   "cell_type": "code",
   "execution_count": 99,
   "metadata": {},
   "outputs": [],
   "source": [
    "le = preprocessing.LabelEncoder()\n",
    "for col in range(len(X[0])):\n",
    "    X[:,col] = le.fit_transform(X[:,col])"
   ]
  },
  {
   "cell_type": "code",
   "execution_count": 100,
   "metadata": {},
   "outputs": [
    {
     "data": {
      "text/plain": [
       "[Hardware, Hardware, Network, Hardware, Network, ..., Application, Application, Application, Hardware, Hardware]\n",
       "Length: 688\n",
       "Categories (8, object): [Application, Environment, Hardware, Infrastructure, Inquiry / Help, Network, Security, Telephony]"
      ]
     },
     "execution_count": 100,
     "metadata": {},
     "output_type": "execute_result"
    }
   ],
   "source": [
    "y = data['Category'].values\n",
    "y"
   ]
  },
  {
   "cell_type": "code",
   "execution_count": 115,
   "metadata": {},
   "outputs": [],
   "source": [
    "y = le.fit_transform(y)"
   ]
  },
  {
   "cell_type": "code",
   "execution_count": 117,
   "metadata": {},
   "outputs": [
    {
     "data": {
      "text/plain": [
       "DecisionTreeClassifier(class_weight=None, criterion='gini', max_depth=5,\n",
       "            max_features=None, max_leaf_nodes=None,\n",
       "            min_impurity_decrease=0.0, min_impurity_split=None,\n",
       "            min_samples_leaf=5, min_samples_split=2,\n",
       "            min_weight_fraction_leaf=0.0, presort=False, random_state=100,\n",
       "            splitter='best')"
      ]
     },
     "execution_count": 117,
     "metadata": {},
     "output_type": "execute_result"
    }
   ],
   "source": [
    "X_train, X_test, y_train, y_test = train_test_split(X, y, test_size=0.3, random_state=100)\n",
    "tree_gini = DecisionTreeClassifier(criterion='gini',random_state=100, max_depth=5, min_samples_leaf=5)\n",
    "tree_gini.fit(X_train, y_train)"
   ]
  },
  {
   "cell_type": "code",
   "execution_count": 119,
   "metadata": {},
   "outputs": [
    {
     "data": {
      "text/plain": [
       "DecisionTreeClassifier(class_weight=None, criterion='entropy', max_depth=5,\n",
       "            max_features=None, max_leaf_nodes=None,\n",
       "            min_impurity_decrease=0.0, min_impurity_split=None,\n",
       "            min_samples_leaf=5, min_samples_split=2,\n",
       "            min_weight_fraction_leaf=0.0, presort=False, random_state=100,\n",
       "            splitter='best')"
      ]
     },
     "execution_count": 119,
     "metadata": {},
     "output_type": "execute_result"
    }
   ],
   "source": [
    "tree_entropy = DecisionTreeClassifier(criterion='entropy', random_state=100, max_depth=5, min_samples_leaf=5)\n",
    "tree_entropy.fit(X_train, y_train)"
   ]
  },
  {
   "cell_type": "code",
   "execution_count": 122,
   "metadata": {},
   "outputs": [
    {
     "data": {
      "text/plain": [
       "array([0, 0, 0, 0, 0, 0, 5, 0, 0, 0, 2, 2, 0, 0, 0, 0, 0, 0, 0, 0, 0, 0,\n",
       "       0, 0, 5, 0, 0, 0, 0, 0, 0, 0, 0, 0, 0, 0, 0, 0, 0, 0, 0, 0, 0, 0,\n",
       "       0, 0, 0, 0, 0, 5, 0, 0, 0, 0, 0, 0, 0, 0, 0, 0, 0, 0, 0, 0, 0, 2,\n",
       "       0, 5, 5, 0, 5, 0, 5, 0, 0, 0, 0, 0, 0, 0, 0, 0, 0, 0, 2, 0, 0, 0,\n",
       "       0, 0, 2, 0, 0, 0, 0, 0, 0, 0, 0, 0, 5, 0, 0, 0, 0, 0, 0, 0, 0, 0,\n",
       "       0, 0, 0, 0, 0, 0, 0, 0, 0, 0, 0, 2, 0, 0, 0, 0, 0, 0, 0, 0, 0, 0,\n",
       "       2, 0, 0, 2, 0, 0, 0, 0, 0, 0, 0, 0, 0, 2, 0, 0, 5, 0, 0, 0, 0, 0,\n",
       "       0, 0, 0, 0, 0, 0, 5, 0, 0, 0, 0, 0, 0, 2, 0, 0, 0, 0, 0, 0, 0, 2,\n",
       "       2, 0, 0, 0, 0, 0, 0, 0, 0, 0, 0, 0, 0, 0, 0, 0, 0, 0, 0, 0, 0, 2,\n",
       "       0, 5, 0, 0, 2, 0, 2, 0, 0])"
      ]
     },
     "execution_count": 122,
     "metadata": {},
     "output_type": "execute_result"
    }
   ],
   "source": [
    "y_pred = tree_gini.predict(X_test)\n",
    "y_pred"
   ]
  },
  {
   "cell_type": "code",
   "execution_count": 123,
   "metadata": {},
   "outputs": [
    {
     "data": {
      "text/plain": [
       "array([0, 0, 0, 0, 0, 0, 5, 0, 0, 0, 0, 0, 0, 0, 0, 0, 0, 0, 0, 0, 0, 0,\n",
       "       0, 0, 5, 0, 0, 0, 0, 0, 0, 0, 0, 0, 0, 0, 0, 0, 5, 0, 0, 0, 0, 0,\n",
       "       0, 0, 0, 0, 0, 5, 0, 0, 0, 0, 0, 0, 5, 0, 0, 5, 0, 0, 0, 0, 0, 0,\n",
       "       0, 5, 5, 0, 5, 0, 5, 0, 0, 0, 0, 0, 0, 2, 0, 2, 0, 0, 0, 2, 0, 0,\n",
       "       0, 0, 0, 0, 0, 0, 0, 0, 0, 0, 0, 0, 5, 0, 0, 0, 0, 0, 0, 2, 0, 0,\n",
       "       0, 0, 0, 0, 0, 0, 0, 0, 0, 0, 0, 0, 0, 0, 0, 0, 0, 0, 0, 0, 0, 0,\n",
       "       2, 0, 0, 0, 0, 0, 0, 0, 0, 0, 0, 0, 0, 5, 2, 2, 5, 0, 0, 0, 5, 0,\n",
       "       0, 0, 0, 0, 0, 0, 5, 0, 0, 0, 0, 0, 0, 0, 0, 0, 0, 0, 0, 0, 0, 5,\n",
       "       0, 0, 0, 0, 0, 0, 0, 0, 0, 0, 0, 0, 0, 0, 0, 0, 0, 0, 0, 2, 0, 0,\n",
       "       2, 5, 0, 0, 0, 0, 0, 0, 0])"
      ]
     },
     "execution_count": 123,
     "metadata": {},
     "output_type": "execute_result"
    }
   ],
   "source": [
    "y_pred_entropy = tree_entropy.predict(X_test)\n",
    "y_pred_entropy"
   ]
  },
  {
   "cell_type": "code",
   "execution_count": 124,
   "metadata": {},
   "outputs": [
    {
     "data": {
      "text/plain": [
       "0.6859903381642513"
      ]
     },
     "execution_count": 124,
     "metadata": {},
     "output_type": "execute_result"
    }
   ],
   "source": [
    "accuracy_score(y_test, y_pred)"
   ]
  },
  {
   "cell_type": "code",
   "execution_count": null,
   "metadata": {},
   "outputs": [],
   "source": []
  },
  {
   "cell_type": "code",
   "execution_count": null,
   "metadata": {},
   "outputs": [],
   "source": []
  },
  {
   "cell_type": "code",
   "execution_count": null,
   "metadata": {},
   "outputs": [],
   "source": []
  },
  {
   "cell_type": "code",
   "execution_count": null,
   "metadata": {},
   "outputs": [],
   "source": []
  },
  {
   "cell_type": "code",
   "execution_count": null,
   "metadata": {},
   "outputs": [],
   "source": []
  }
 ],
 "metadata": {
  "kernelspec": {
   "display_name": "Python 3",
   "language": "python",
   "name": "python3"
  },
  "language_info": {
   "codemirror_mode": {
    "name": "ipython",
    "version": 3
   },
   "file_extension": ".py",
   "mimetype": "text/x-python",
   "name": "python",
   "nbconvert_exporter": "python",
   "pygments_lexer": "ipython3",
   "version": "3.6.6"
  }
 },
 "nbformat": 4,
 "nbformat_minor": 2
}
