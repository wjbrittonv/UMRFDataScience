{
 "cells": [
  {
   "cell_type": "code",
   "execution_count": 1,
   "metadata": {},
   "outputs": [],
   "source": [
    "import pandas as pd\n",
    "import numpy as np\n",
    "from sklearn import metrics, svm\n",
    "from scipy import stats\n",
    "import seaborn\n",
    "import matplotlib.pyplot as plt\n",
    "from matplotlib import rcParams\n",
    "from sklearn.feature_selection import chi2, SelectKBest, SelectFdr\n",
    "from sklearn.decomposition import PCA"
   ]
  },
  {
   "cell_type": "markdown",
   "metadata": {},
   "source": [
    "Import data as data frame"
   ]
  },
  {
   "cell_type": "code",
   "execution_count": 2,
   "metadata": {},
   "outputs": [
    {
     "data": {
      "text/html": [
       "<div>\n",
       "<style scoped>\n",
       "    .dataframe tbody tr th:only-of-type {\n",
       "        vertical-align: middle;\n",
       "    }\n",
       "\n",
       "    .dataframe tbody tr th {\n",
       "        vertical-align: top;\n",
       "    }\n",
       "\n",
       "    .dataframe thead th {\n",
       "        text-align: right;\n",
       "    }\n",
       "</style>\n",
       "<table border=\"1\" class=\"dataframe\">\n",
       "  <thead>\n",
       "    <tr style=\"text-align: right;\">\n",
       "      <th></th>\n",
       "      <th>Assignment group</th>\n",
       "      <th>Business duration</th>\n",
       "      <th>Business service</th>\n",
       "      <th>Category</th>\n",
       "      <th>Company</th>\n",
       "      <th>Created Time</th>\n",
       "      <th>Created by</th>\n",
       "      <th>Duration</th>\n",
       "      <th>Has Parent</th>\n",
       "      <th>Impact</th>\n",
       "      <th>Major Problem</th>\n",
       "      <th>Opened by</th>\n",
       "      <th>Priority</th>\n",
       "      <th>Problem Manager</th>\n",
       "      <th>Reassignment count</th>\n",
       "      <th>Related Incidents</th>\n",
       "      <th>Type</th>\n",
       "      <th>Updates</th>\n",
       "      <th>Urgency</th>\n",
       "    </tr>\n",
       "  </thead>\n",
       "  <tbody>\n",
       "    <tr>\n",
       "      <th>0</th>\n",
       "      <td>FSC_ITL3O2STIBCO</td>\n",
       "      <td>0</td>\n",
       "      <td>Computer</td>\n",
       "      <td>Application</td>\n",
       "      <td>Other</td>\n",
       "      <td>afternoon</td>\n",
       "      <td>Other</td>\n",
       "      <td>0</td>\n",
       "      <td>False</td>\n",
       "      <td>3</td>\n",
       "      <td>False</td>\n",
       "      <td>Naveen Kumar</td>\n",
       "      <td>5</td>\n",
       "      <td>Naveen Kumar</td>\n",
       "      <td>1</td>\n",
       "      <td>15</td>\n",
       "      <td>Standard</td>\n",
       "      <td>19</td>\n",
       "      <td>3</td>\n",
       "    </tr>\n",
       "    <tr>\n",
       "      <th>1</th>\n",
       "      <td>Other</td>\n",
       "      <td>1084035</td>\n",
       "      <td>Computer</td>\n",
       "      <td>Application</td>\n",
       "      <td>FedEx Services</td>\n",
       "      <td>evening</td>\n",
       "      <td>ID3667964</td>\n",
       "      <td>4636059</td>\n",
       "      <td>True</td>\n",
       "      <td>3</td>\n",
       "      <td>True</td>\n",
       "      <td>DZundra Green</td>\n",
       "      <td>5</td>\n",
       "      <td>Mark Duncan</td>\n",
       "      <td>2</td>\n",
       "      <td>10</td>\n",
       "      <td>ITCC</td>\n",
       "      <td>32</td>\n",
       "      <td>3</td>\n",
       "    </tr>\n",
       "    <tr>\n",
       "      <th>2</th>\n",
       "      <td>FSC_ITL3O2STIBCO</td>\n",
       "      <td>0</td>\n",
       "      <td>Computer</td>\n",
       "      <td>Application</td>\n",
       "      <td>Other</td>\n",
       "      <td>afternoon</td>\n",
       "      <td>ID5069733</td>\n",
       "      <td>0</td>\n",
       "      <td>True</td>\n",
       "      <td>3</td>\n",
       "      <td>False</td>\n",
       "      <td>Admin-Arturo Reyes</td>\n",
       "      <td>5</td>\n",
       "      <td>Naveen Kumar</td>\n",
       "      <td>0</td>\n",
       "      <td>10</td>\n",
       "      <td>Standard</td>\n",
       "      <td>33</td>\n",
       "      <td>3</td>\n",
       "    </tr>\n",
       "    <tr>\n",
       "      <th>3</th>\n",
       "      <td>Other</td>\n",
       "      <td>576000</td>\n",
       "      <td>Server</td>\n",
       "      <td>Application</td>\n",
       "      <td>FedEx Services</td>\n",
       "      <td>evening</td>\n",
       "      <td>ID5305519</td>\n",
       "      <td>2406878</td>\n",
       "      <td>True</td>\n",
       "      <td>3</td>\n",
       "      <td>True</td>\n",
       "      <td>Ashish Bisht</td>\n",
       "      <td>5</td>\n",
       "      <td>Christophe Gurley</td>\n",
       "      <td>2</td>\n",
       "      <td>9</td>\n",
       "      <td>ITCC</td>\n",
       "      <td>24</td>\n",
       "      <td>3</td>\n",
       "    </tr>\n",
       "    <tr>\n",
       "      <th>4</th>\n",
       "      <td>Other</td>\n",
       "      <td>562179</td>\n",
       "      <td>Network</td>\n",
       "      <td>Application</td>\n",
       "      <td>FedEx Services</td>\n",
       "      <td>morning</td>\n",
       "      <td>Other</td>\n",
       "      <td>2197479</td>\n",
       "      <td>True</td>\n",
       "      <td>3</td>\n",
       "      <td>True</td>\n",
       "      <td>Brad Moore</td>\n",
       "      <td>5</td>\n",
       "      <td>Michael Kennemer</td>\n",
       "      <td>2</td>\n",
       "      <td>6</td>\n",
       "      <td>ITCC</td>\n",
       "      <td>27</td>\n",
       "      <td>3</td>\n",
       "    </tr>\n",
       "  </tbody>\n",
       "</table>\n",
       "</div>"
      ],
      "text/plain": [
       "   Assignment group  Business duration Business service     Category  \\\n",
       "0  FSC_ITL3O2STIBCO                  0         Computer  Application   \n",
       "1             Other            1084035         Computer  Application   \n",
       "2  FSC_ITL3O2STIBCO                  0         Computer  Application   \n",
       "3             Other             576000           Server  Application   \n",
       "4             Other             562179          Network  Application   \n",
       "\n",
       "          Company Created Time Created by  Duration  Has Parent  Impact  \\\n",
       "0           Other    afternoon      Other         0       False       3   \n",
       "1  FedEx Services      evening  ID3667964   4636059        True       3   \n",
       "2           Other    afternoon  ID5069733         0        True       3   \n",
       "3  FedEx Services      evening  ID5305519   2406878        True       3   \n",
       "4  FedEx Services      morning      Other   2197479        True       3   \n",
       "\n",
       "   Major Problem           Opened by  Priority    Problem Manager  \\\n",
       "0          False        Naveen Kumar         5       Naveen Kumar   \n",
       "1           True       DZundra Green         5        Mark Duncan   \n",
       "2          False  Admin-Arturo Reyes         5       Naveen Kumar   \n",
       "3           True        Ashish Bisht         5  Christophe Gurley   \n",
       "4           True          Brad Moore         5   Michael Kennemer   \n",
       "\n",
       "   Reassignment count  Related Incidents      Type  Updates  Urgency  \n",
       "0                   1                 15  Standard       19        3  \n",
       "1                   2                 10      ITCC       32        3  \n",
       "2                   0                 10  Standard       33        3  \n",
       "3                   2                  9      ITCC       24        3  \n",
       "4                   2                  6      ITCC       27        3  "
      ]
     },
     "execution_count": 2,
     "metadata": {},
     "output_type": "execute_result"
    }
   ],
   "source": [
    "datapath = \"./datasets/\"\n",
    "simplefile = \"problems_preprocessed.csv\"\n",
    "\n",
    "data = pd.read_csv(datapath + simplefile)\n",
    "data.head()"
   ]
  },
  {
   "cell_type": "code",
   "execution_count": null,
   "metadata": {},
   "outputs": [],
   "source": [
    "data.columns"
   ]
  },
  {
   "cell_type": "markdown",
   "metadata": {},
   "source": [
    "## Exploratory Data Analysis"
   ]
  },
  {
   "cell_type": "code",
   "execution_count": null,
   "metadata": {},
   "outputs": [],
   "source": [
    "seaborn.catplot(x=\"Type\", y=\"Impact\", hue=\"Category\", kind=\"bar\", data=data);"
   ]
  },
  {
   "cell_type": "code",
   "execution_count": null,
   "metadata": {},
   "outputs": [],
   "source": [
    "durations = pd.read_csv(datapath + 'problems_durations.csv')"
   ]
  },
  {
   "cell_type": "code",
   "execution_count": null,
   "metadata": {},
   "outputs": [],
   "source": [
    "rcParams.update({'figure.autolayout': True})\n",
    "seaborn.set(font_scale=3)\n",
    "fig, ax = plt.subplots(2,1)\n",
    "plt.subplots_adjust(wspace=.5, hspace=.2)\n",
    "fig.set_figwidth(30)\n",
    "fig.set_figheight(20)\n",
    "g1 = seaborn.boxplot('Duration Mean', 'Category', data=durations, ax=ax[0])\n",
    "#g1.set_xscale('log')\n",
    "g1.set_title('Problem Duration by Category and Business service')\n",
    "g2 = seaborn.boxplot('Duration Mean', 'Business service', data=durations, ax=ax[1])\n",
    "# g2.set_xscale('log')\n",
    "plt.savefig(\"DurationByCat-Service.png\")"
   ]
  },
  {
   "cell_type": "code",
   "execution_count": null,
   "metadata": {},
   "outputs": [],
   "source": [
    "seaborn.set(font_scale=3)\n",
    "fig, ax = plt.subplots(1)\n",
    "plt.subplots_adjust(wspace=.5, hspace=.2)\n",
    "fig.set_figwidth(30)\n",
    "fig.set_figheight(10)\n",
    "g1 = seaborn.boxplot('Duration Mean', 'Category', data=durations)\n",
    "g1.set_xscale('log')"
   ]
  },
  {
   "cell_type": "code",
   "execution_count": null,
   "metadata": {},
   "outputs": [],
   "source": [
    "seaborn.set(font_scale=2)\n",
    "fig, ax = plt.subplots()\n",
    "plt.subplots_adjust(wspace=.5, hspace=.2)\n",
    "fig.set_figwidth(28)\n",
    "fig.set_figheight(12)\n",
    "g = seaborn.boxplot('Duration Mean', 'Problem Manager', data=durations)\n",
    "g.set_xscale('log')\n",
    "plt.title('Durations by Problem Manager')\n",
    "plt.savefig(\"DurationByManager-logscale.png\")"
   ]
  },
  {
   "cell_type": "code",
   "execution_count": null,
   "metadata": {},
   "outputs": [],
   "source": [
    "seaborn.set(font_scale=3)\n",
    "fig, ax = plt.subplots(2,1)\n",
    "plt.subplots_adjust(wspace=.5, hspace=.2)\n",
    "fig.set_figwidth(30)\n",
    "fig.set_figheight(20)\n",
    "g1 = seaborn.boxplot('Updates', 'Category', data=data, ax=ax[0])\n",
    "g1.set_title('Update Count by Category and Business service')\n",
    "g2 = seaborn.boxplot('Updates', 'Business service', data=data, ax=ax[1])\n",
    "plt.savefig(\"UpdatesByCat-Service.png\")"
   ]
  },
  {
   "cell_type": "code",
   "execution_count": null,
   "metadata": {},
   "outputs": [],
   "source": [
    "seaborn.set(font_scale=2)\n",
    "fig, ax = plt.subplots()\n",
    "plt.subplots_adjust(wspace=.5, hspace=.2)\n",
    "fig.set_figwidth(28)\n",
    "fig.set_figheight(12)\n",
    "g = seaborn.boxplot('Updates', 'Problem Manager', data=data)\n",
    "# g.set_xscale('log')\n",
    "plt.title('Updates by Problem Manager')\n",
    "plt.savefig(\"UpdatesByManager.png\")"
   ]
  },
  {
   "cell_type": "code",
   "execution_count": null,
   "metadata": {},
   "outputs": [],
   "source": [
    "seaborn.set(font_scale=3)\n",
    "fig, ax = plt.subplots(2,1)\n",
    "plt.subplots_adjust(wspace=.5, hspace=.2)\n",
    "fig.set_figwidth(30)\n",
    "fig.set_figheight(20)\n",
    "g1 = seaborn.boxplot('Reassignment count', 'Category', data=data, ax=ax[0])\n",
    "g1.set_title('Reassignment Count by Category and Business service')\n",
    "g2 = seaborn.boxplot('Reassignment count', 'Business service', data=data, ax=ax[1])\n",
    "plt.savefig(\"ReassignCountByCat-Service.png\")"
   ]
  },
  {
   "cell_type": "code",
   "execution_count": null,
   "metadata": {},
   "outputs": [],
   "source": [
    "catbytime = pd.crosstab(index=data[\"Category\"], \n",
    "                          columns=data[\"Created Time\"])\n",
    "print(catbytime)\n",
    "stats.chi2_contingency(catbytime)"
   ]
  },
  {
   "cell_type": "code",
   "execution_count": null,
   "metadata": {},
   "outputs": [],
   "source": [
    "data['Problem Manager'].value_counts()"
   ]
  },
  {
   "cell_type": "code",
   "execution_count": null,
   "metadata": {},
   "outputs": [],
   "source": [
    "seaborn.set(font_scale=2)"
   ]
  },
  {
   "cell_type": "code",
   "execution_count": null,
   "metadata": {},
   "outputs": [],
   "source": [
    "fig, ax = plt.subplots(2,1)\n",
    "plt.subplots_adjust(wspace=.5, hspace=.2)\n",
    "fig.set_figwidth(20)\n",
    "fig.set_figheight(15)\n",
    "seaborn.barplot('Duration Mean', 'Business service', errwidth=0, data=durations, ax=ax[0])\n",
    "seaborn.barplot('Duration Mean', 'Category', errwidth=0, data=durations, ax=ax[1])\n",
    "# seaborn.barplot('Duration Mean', 'Problem Manager', errwidth=0, data=data, ax=ax[0,0])\n",
    "# seaborn.barplot('Duration Mean', 'Assignment group', errwidth=0, data=data, ax=ax[1,0])\n",
    "# seaborn.barplot('Duration Mean', 'Company', errwidth=0, data=data, ax=ax[2,0])\n",
    "# seaborn.barplot('Duration Mean', 'Created Time', errwidth=0, data=data, ax=ax[2,1])"
   ]
  },
  {
   "cell_type": "code",
   "execution_count": null,
   "metadata": {},
   "outputs": [],
   "source": [
    "fig, ax = plt.subplots(2,1)\n",
    "plt.subplots_adjust(wspace=.5, hspace=.2)\n",
    "fig.set_figwidth(20)\n",
    "fig.set_figheight(15)\n",
    "seaborn.barplot('Duration Mean', 'Problem Manager', errwidth=0, data=durations, ax=ax[0])\n",
    "seaborn.barplot('Duration Mean', 'Assignment group', errwidth=0, data=durations, ax=ax[1])\n",
    "# seaborn.barplot('Duration Mean', 'Company', errwidth=0, data=data, ax=ax[2,0])\n",
    "# seaborn.barplot('Duration Mean', 'Created Time', errwidth=0, data=data, ax=ax[2,1])"
   ]
  },
  {
   "cell_type": "code",
   "execution_count": null,
   "metadata": {
    "slideshow": {
     "slide_type": "slide"
    }
   },
   "outputs": [],
   "source": [
    "fig, ax = plt.subplots(1,1)\n",
    "plt.subplots_adjust(wspace=.5, hspace=.2)\n",
    "fig.set_figwidth(20)\n",
    "fig.set_figheight(15)\n",
    "seaborn.set_style(\"dark\")\n",
    "x1 = list(durations[durations['Category'] == 'Application']['Duration Mean'])\n",
    "x2 = list(durations[durations['Category'] == 'Network']['Duration Mean'])\n",
    "x3 = list(durations[durations['Category'] == 'Hardware']['Duration Mean'])\n",
    "x4 = list(durations[durations['Category'] == 'Environment']['Duration Mean'])\n",
    "x5 = list(durations[durations['Category'] == 'Security']['Duration Mean'])\n",
    "x6 = list(durations[durations['Category'] == 'Infrastructure']['Duration Mean'])\n",
    "x7 = list(durations[durations['Category'] == 'Inquiry / Help']['Duration Mean'])\n",
    "x8 = list(durations[durations['Category'] == 'Telephony']['Duration Mean'])\n",
    "x9 = list(durations[durations['Category'] == 'Other']['Duration Mean'])\n",
    "\n",
    "\n",
    "# Assign colors for each airline and the names\n",
    "colors = ['#0039A6', '#FF6319', '#6CBE45', '#996633', '#FCCC0A', '#EE352E', '#B933AD', '#00A1DE', '#00933C']\n",
    "names = ['Application', 'Network', 'Hardware', 'Environment', 'Security', \n",
    "         'Infrastructure', 'Inquiry / Help', 'Telephony', 'Other']\n",
    "         \n",
    "# Make the histogram using a list of lists\n",
    "# Normalize the flights and assign colors and names\n",
    "plt.hist([x1, x2, x3, x4, x5, x6, x7, x8, x9], bins = int(180/30), normed=False,\n",
    "         color = colors, label=names)\n",
    "\n",
    "plt.legend()\n",
    "plt.xlabel('Duration Mean')\n",
    "plt.ylabel('Normalized Count')\n",
    "plt.title('Duration by Category (Normed)')\n",
    "plt.savefig(\"DurationByCategory.png\")"
   ]
  },
  {
   "cell_type": "code",
   "execution_count": null,
   "metadata": {},
   "outputs": [],
   "source": [
    "fig, ax = plt.subplots(1,1)\n",
    "plt.subplots_adjust(wspace=.5, hspace=.2)\n",
    "fig.set_figwidth(20)\n",
    "fig.set_figheight(15)\n",
    "seaborn.set_style(\"dark\")\n",
    "x1 = list(data[data['Category'] == 'Application']['Reassignment count'])\n",
    "x2 = list(data[data['Category'] == 'Network']['Reassignment count'])\n",
    "x3 = list(data[data['Category'] == 'Hardware']['Reassignment count'])\n",
    "x4 = list(data[data['Category'] == 'Environment']['Reassignment count'])\n",
    "x5 = list(data[data['Category'] == 'Security']['Reassignment count'])\n",
    "x6 = list(data[data['Category'] == 'Infrastructure']['Reassignment count'])\n",
    "x7 = list(data[data['Category'] == 'Inquiry / Help']['Reassignment count'])\n",
    "x8 = list(data[data['Category'] == 'Telephony']['Reassignment count'])\n",
    "x9 = list(data[data['Category'] == 'Other']['Reassignment count'])\n",
    "\n",
    "\n",
    "# Assign colors for each airline and the names\n",
    "colors = ['#0039A6', '#FF6319', '#6CBE45', '#996633', '#FCCC0A', '#EE352E', '#B933AD', '#00A1DE', '#00933C']\n",
    "names = ['Application', 'Network', 'Hardware', 'Environment', 'Security', \n",
    "         'Infrastructure', 'Inquiry / Help', 'Telephony', 'Other']\n",
    "         \n",
    "# Make the histogram using a list of lists\n",
    "# Normalize the flights and assign colors and names\n",
    "plt.hist([x1, x2, x3, x4, x5, x6, x7, x8, x9], bins = int(180/30), normed=False,\n",
    "         color = colors, label=names)\n",
    "\n",
    "plt.legend()\n",
    "plt.xlabel('Reassignment Count')\n",
    "plt.ylabel('Count')\n",
    "plt.title('Reassignment Count')\n",
    "plt.savefig(\"ReassignmentCountByCategory.png\")"
   ]
  },
  {
   "cell_type": "code",
   "execution_count": null,
   "metadata": {},
   "outputs": [],
   "source": [
    "fig, ax = plt.subplots(1,1)\n",
    "plt.subplots_adjust(wspace=.5, hspace=.2)\n",
    "fig.set_figwidth(20)\n",
    "fig.set_figheight(15)\n",
    "seaborn.set_style(\"dark\")\n",
    "\n",
    "categories = ['Application', 'Network', 'Hardware', 'Environment', 'Security', \n",
    "         'Infrastructure', 'Inquiry / Help', 'Telephony']\n",
    "\n",
    "colors = ['#0039A6', '#FF6319', '#6CBE45', '#996633', '#FCCC0A', '#EE352E', '#B933AD', '#00A1DE', '#00933C']\n",
    "\n",
    "for cat in categories:\n",
    "    subset = durations[durations['Category'] == cat]\n",
    "    seaborn.distplot(subset['Updates'], hist = False, kde = True,\n",
    "                 kde_kws = {'linewidth': 3},\n",
    "                 label = cat)\n",
    "plt.legend(prop={'size': 16}, title = 'Category')\n",
    "plt.xlabel('Num Updates')\n",
    "plt.ylabel('Count')\n",
    "plt.title('Count of Updates by Category')\n",
    "plt.savefig(\"UpdatesByCategory.png\")"
   ]
  },
  {
   "cell_type": "code",
   "execution_count": null,
   "metadata": {},
   "outputs": [],
   "source": [
    "fig, ax = plt.subplots(1,1)\n",
    "plt.subplots_adjust(wspace=.5, hspace=.2)\n",
    "fig.set_figwidth(20)\n",
    "fig.set_figheight(15)\n",
    "seaborn.set_style(\"dark\")\n",
    "\n",
    "categories = ['Application', 'Network', 'Hardware', 'Environment', 'Security', \n",
    "         'Infrastructure', 'Inquiry / Help', 'Telephony']\n",
    "\n",
    "colors = ['#0039A6', '#FF6319', '#6CBE45', '#996633', '#FCCC0A', '#EE352E', '#B933AD', '#00A1DE', '#00933C']\n",
    "\n",
    "for cat in categories:\n",
    "    # Subset to the airline\n",
    "    subset = data[data['Category'] == cat]\n",
    "    \n",
    "    # Draw the density plot\n",
    "    seaborn.distplot(subset['Reassignment count'], hist = False, kde = True,\n",
    "                 kde_kws = {'linewidth': 3},\n",
    "                 label = cat)\n",
    "    \n",
    "# Plot formatting\n",
    "\n",
    "\n",
    "# Assign colors for each airline and the names\n",
    "         \n",
    "# Make the histogram using a list of lists\n",
    "# Normalize the flights and assign colors and names\n",
    "\n",
    "plt.legend(prop={'size': 16}, title = 'Category')\n",
    "plt.xlabel('Num Reassignments')\n",
    "plt.ylabel('Count')\n",
    "plt.title('Reassignment Count by Category')\n",
    "plt.savefig(\"ReassignCountByCategory.png\")"
   ]
  },
  {
   "cell_type": "code",
   "execution_count": null,
   "metadata": {},
   "outputs": [],
   "source": [
    "fig, ax = plt.subplots(3,2)\n",
    "plt.subplots_adjust(wspace=.5, hspace=.2)\n",
    "fig.set_figwidth(20)\n",
    "fig.set_figheight(15)\n",
    "seaborn.set_style(\"dark\")\n",
    "seaborn.violinplot('Duration Mean', 'Business service', errwidth=0, data=data, ax=ax[0,0])\n",
    "seaborn.violinplot('Duration Mean', 'Category', errwidth=0, data=data, ax=ax[0,1])\n",
    "seaborn.violinplot('Duration Mean', 'Problem Manager', errwidth=0, data=data, ax=ax[1,0])\n",
    "seaborn.violinplot('Duration Mean', 'Assignment group', errwidth=0, data=data, ax=ax[1,1])\n",
    "seaborn.violinplot('Duration Mean', 'Company', errwidth=0, data=data, ax=ax[2,0])\n",
    "seaborn.violinplot('Duration Mean', 'Created Time', errwidth=0, data=data, ax=ax[2,1])"
   ]
  },
  {
   "cell_type": "code",
   "execution_count": null,
   "metadata": {},
   "outputs": [],
   "source": []
  },
  {
   "cell_type": "code",
   "execution_count": null,
   "metadata": {},
   "outputs": [],
   "source": [
    "corrdata = data.drop('Business duration', axis=1)\n",
    "fig, ax = plt.subplots(1,1)\n",
    "fig.set_figwidth(20)\n",
    "fig.set_figheight(15)\n",
    "corr = corrdata.corr()\n",
    "seaborn.heatmap(corr, \n",
    "            xticklabels=corr.columns.values,\n",
    "            yticklabels=corr.columns.values)\n",
    "plt.savefig(\"CorrelationHeatmap.png\")"
   ]
  },
  {
   "cell_type": "code",
   "execution_count": 3,
   "metadata": {},
   "outputs": [
    {
     "data": {
      "text/plain": [
       "array(['Application', 'Application', 'Application', ..., 'Hardware',\n",
       "       'Hardware', 'Hardware'], dtype=object)"
      ]
     },
     "execution_count": 3,
     "metadata": {},
     "output_type": "execute_result"
    }
   ],
   "source": [
    "df = pd.read_csv(datapath + 'problems_2categories_atprobcreation.csv')\n",
    "X = df.drop('Category', axis=1)\n",
    "X = pd.get_dummies(X, columns=[\"'Assignment group'\", \"'Business service'\",\n",
    "                               'Company', \"'Created Time'\", \"'Created by'\", \n",
    "                               \"'Opened by'\", 'Type'])\n",
    "y = df['Category'].values\n",
    "y"
   ]
  },
  {
   "cell_type": "code",
   "execution_count": 12,
   "metadata": {},
   "outputs": [
    {
     "name": "stdout",
     "output_type": "stream",
     "text": [
      "Adjusted_Rand: 0.02554385376701758\n",
      "Silhouette: 0.22078368742691057\n",
      "Total explained variance: 0.5823567152619853\n"
     ]
    },
    {
     "data": {
      "image/png": "[encoded data removed]",
      "text/plain": [
       "<Figure size 451.875x360 with 1 Axes>"
      ]
     },
     "metadata": {
      "needs_background": "light"
     },
     "output_type": "display_data"
    },
    {
     "data": {
      "image/png": "[encoded data removed]",
      "text/plain": [
       "<Figure size 432x288 with 1 Axes>"
      ]
     },
     "metadata": {
      "needs_background": "light"
     },
     "output_type": "display_data"
    }
   ],
   "source": [
    "from sklearn.decomposition import PCA\n",
    "from sklearn.cluster import KMeans\n",
    "from mpl_toolkits.mplot3d import *\n",
    "from matplotlib import pyplot\n",
    "from sklearn.metrics import adjusted_rand_score, silhouette_score\n",
    "\n",
    "pca = PCA(n_components=4)\n",
    "\n",
    "Xfit = pca.fit_transform(X)\n",
    "df['pca1'] = Xfit[ : , 0]\n",
    "df['pca2'] = Xfit[ : , 1]\n",
    "df['pca3'] = Xfit[ : , 2]\n",
    "df['pca4'] = Xfit[ : , 3]\n",
    "\n",
    "model = KMeans(n_clusters=4)\n",
    "model.fit(df[['pca1', 'pca2', 'pca3']])\n",
    "print('Adjusted_Rand:', adjusted_rand_score(model.labels_, df.Category))\n",
    "print('Silhouette:', silhouette_score(X, model.labels_))\n",
    "print('Total explained variance:', sum(pca.explained_variance_ratio_))\n",
    "\n",
    "seaborn.relplot(x='pca1', y='pca2', hue='Category', data = df)\n",
    "fig = pyplot.figure()\n",
    "ax = fig.add_subplot(111, projection='3d')\n",
    "\n",
    "x = df['pca1']\n",
    "y = df['pca2']\n",
    "z = df['pca3']\n",
    "\n",
    "for name, group in df.groupby('Category'):\n",
    "    ax.scatter(group.pca1, group.pca2, group.pca3, label=name)\n",
    "    \n",
    "# pyplot.show()"
   ]
  },
  {
   "cell_type": "code",
   "execution_count": null,
   "metadata": {},
   "outputs": [],
   "source": [
    "print(model.labels_)"
   ]
  },
  {
   "cell_type": "code",
   "execution_count": null,
   "metadata": {},
   "outputs": [],
   "source": []
  }
 ],
 "metadata": {
  "kernelspec": {
   "display_name": "Python 3",
   "language": "python",
   "name": "python3"
  },
  "language_info": {
   "codemirror_mode": {
    "name": "ipython",
    "version": 3
   },
   "file_extension": ".py",
   "mimetype": "text/x-python",
   "name": "python",
   "nbconvert_exporter": "python",
   "pygments_lexer": "ipython3",
   "version": "3.6.6"
  }
 },
 "nbformat": 4,
 "nbformat_minor": 2
}
