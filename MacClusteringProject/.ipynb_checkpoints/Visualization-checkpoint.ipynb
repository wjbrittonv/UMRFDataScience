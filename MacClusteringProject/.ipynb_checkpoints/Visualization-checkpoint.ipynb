{
 "cells": [
  {
   "cell_type": "code",
   "execution_count": 1,
   "metadata": {},
   "outputs": [],
   "source": [
    "import pandas as pd\n",
    "import numpy as np\n",
    "from sklearn.model_selection import train_test_split, ShuffleSplit, cross_validate,cross_val_score\n",
    "from sklearn.tree import DecisionTreeClassifier\n",
    "from sklearn.linear_model import LogisticRegression\n",
    "from sklearn import metrics, svm\n",
    "from sklearn.metrics import accuracy_score\n",
    "from sklearn import preprocessing\n",
    "from sklearn import tree\n",
    "from sklearn.ensemble import GradientBoostingClassifier, RandomForestClassifier\n",
    "from sklearn.naive_bayes import GaussianNB\n",
    "import seaborn\n",
    "from matplotlib import pyplot\n",
    "import matplotlib.pyplot as plt\n",
    "from matplotlib import rcParams\n",
    "from sklearn.cluster import KMeans, DBSCAN\n",
    "from sklearn.feature_selection import chi2, SelectKBest, SelectFdr\n",
    "from sklearn.decomposition import PCA\n",
    "from rake_nltk import Rake"
   ]
  },
  {
   "cell_type": "markdown",
   "metadata": {},
   "source": [
    "Import data as data frame"
   ]
  },
  {
   "cell_type": "code",
   "execution_count": null,
   "metadata": {},
   "outputs": [],
   "source": [
    "# dataPath = \"/mnt/c/Users/LJUDY/OneDrive/MyStuff/Work/FedEx/Shift Lead/Clustering Project/\"\n",
    "simplefile = \"problems_preprocessed.csv\"\n",
    "\n",
    "data = pd.read_csv(simplefile)\n",
    "data.head()"
   ]
  },
  {
   "cell_type": "code",
   "execution_count": null,
   "metadata": {},
   "outputs": [],
   "source": [
    "data.columns"
   ]
  },
  {
   "cell_type": "markdown",
   "metadata": {},
   "source": [
    "## Exploratory Data Analysis"
   ]
  },
  {
   "cell_type": "code",
   "execution_count": null,
   "metadata": {},
   "outputs": [],
   "source": [
    "seaborn.catplot(x=\"Type\", y=\"Impact\", hue=\"Category\", kind=\"bar\", data=data);"
   ]
  },
  {
   "cell_type": "code",
   "execution_count": null,
   "metadata": {},
   "outputs": [],
   "source": [
    "rcParams.update({'figure.autolayout': True})\n",
    "seaborn.set(font_scale=3)\n",
    "fig, ax = plt.subplots(2,1)\n",
    "plt.subplots_adjust(wspace=.5, hspace=.2)\n",
    "fig.set_figwidth(30)\n",
    "fig.set_figheight(20)\n",
    "# plt.set_yscale('log')\n",
    "g1 = seaborn.boxplot('Duration Mean', 'Category', data=data, ax=ax[0])\n",
    "g1.set_xscale('log')\n",
    "g1.set_title('Problem Duration by Category and Business service')\n",
    "g2 = seaborn.boxplot('Duration Mean', 'Business service', data=data, ax=ax[1])\n",
    "g2.set_xscale('log')\n",
    "plt.savefig(\"DurationByCat-Service-logscale.png\")"
   ]
  },
  {
   "cell_type": "code",
   "execution_count": null,
   "metadata": {},
   "outputs": [],
   "source": [
    "seaborn.set(font_scale=2)\n",
    "fig, ax = plt.subplots()\n",
    "plt.subplots_adjust(wspace=.5, hspace=.2)\n",
    "fig.set_figwidth(28)\n",
    "fig.set_figheight(12)\n",
    "g = seaborn.boxplot('Duration Mean', 'Problem Manager', data=data)\n",
    "# g.set_xscale('log')\n",
    "plt.title('Durations by Problem Manager')\n",
    "plt.savefig(\"DurationByManager.png\")"
   ]
  },
  {
   "cell_type": "code",
   "execution_count": null,
   "metadata": {},
   "outputs": [],
   "source": [
    "seaborn.set(font_scale=3)\n",
    "fig, ax = plt.subplots(2,1)\n",
    "plt.subplots_adjust(wspace=.5, hspace=.2)\n",
    "fig.set_figwidth(30)\n",
    "fig.set_figheight(20)\n",
    "g1 = seaborn.boxplot('Updates', 'Category', data=data, ax=ax[0])\n",
    "g1.set_title('Update Count by Category and Business service')\n",
    "g2 = seaborn.boxplot('Updates', 'Business service', data=data, ax=ax[1])\n",
    "plt.savefig(\"UpdatesByCat-Service.png\")"
   ]
  },
  {
   "cell_type": "code",
   "execution_count": null,
   "metadata": {},
   "outputs": [],
   "source": [
    "seaborn.set(font_scale=2)\n",
    "fig, ax = plt.subplots()\n",
    "plt.subplots_adjust(wspace=.5, hspace=.2)\n",
    "fig.set_figwidth(28)\n",
    "fig.set_figheight(12)\n",
    "g = seaborn.boxplot('Updates', 'Problem Manager', data=data)\n",
    "# g.set_xscale('log')\n",
    "plt.title('Updates by Problem Manager')\n",
    "plt.savefig(\"UpdatesByManager.png\")"
   ]
  },
  {
   "cell_type": "code",
   "execution_count": null,
   "metadata": {},
   "outputs": [],
   "source": [
    "seaborn.set(font_scale=3)\n",
    "fig, ax = plt.subplots(2,1)\n",
    "plt.subplots_adjust(wspace=.5, hspace=.2)\n",
    "fig.set_figwidth(30)\n",
    "fig.set_figheight(20)\n",
    "g1 = seaborn.boxplot('Reassignment count', 'Category', data=data, ax=ax[0])\n",
    "g1.set_title('Reassignment Count by Category and Business service')\n",
    "g2 = seaborn.boxplot('Reassignment count', 'Business service', data=data, ax=ax[1])\n",
    "plt.savefig(\"ReassignCountByCat-Service.png\")"
   ]
  },
  {
   "cell_type": "code",
   "execution_count": null,
   "metadata": {},
   "outputs": [],
   "source": []
  },
  {
   "cell_type": "code",
   "execution_count": null,
   "metadata": {},
   "outputs": [],
   "source": [
    "data['Problem Manager'].value_counts()"
   ]
  },
  {
   "cell_type": "code",
   "execution_count": null,
   "metadata": {},
   "outputs": [],
   "source": [
    "seaborn.set(font_scale=2)"
   ]
  },
  {
   "cell_type": "code",
   "execution_count": null,
   "metadata": {},
   "outputs": [],
   "source": [
    "fig, ax = plt.subplots(2,1)\n",
    "plt.subplots_adjust(wspace=.5, hspace=.2)\n",
    "fig.set_figwidth(20)\n",
    "fig.set_figheight(15)\n",
    "seaborn.barplot('Duration Mean', 'Business service', errwidth=0, data=data, ax=ax[0])\n",
    "seaborn.barplot('Duration Mean', 'Category', errwidth=0, data=data, ax=ax[1])\n",
    "# seaborn.barplot('Duration Mean', 'Problem Manager', errwidth=0, data=data, ax=ax[0,0])\n",
    "# seaborn.barplot('Duration Mean', 'Assignment group', errwidth=0, data=data, ax=ax[1,0])\n",
    "# seaborn.barplot('Duration Mean', 'Company', errwidth=0, data=data, ax=ax[2,0])\n",
    "# seaborn.barplot('Duration Mean', 'Created Time', errwidth=0, data=data, ax=ax[2,1])"
   ]
  },
  {
   "cell_type": "code",
   "execution_count": null,
   "metadata": {},
   "outputs": [],
   "source": [
    "fig, ax = plt.subplots(2,1)\n",
    "plt.subplots_adjust(wspace=.5, hspace=.2)\n",
    "fig.set_figwidth(20)\n",
    "fig.set_figheight(15)\n",
    "seaborn.barplot('Duration Mean', 'Problem Manager', errwidth=0, data=data, ax=ax[0])\n",
    "seaborn.barplot('Duration Mean', 'Assignment group', errwidth=0, data=data, ax=ax[1])\n",
    "# seaborn.barplot('Duration Mean', 'Company', errwidth=0, data=data, ax=ax[2,0])\n",
    "# seaborn.barplot('Duration Mean', 'Created Time', errwidth=0, data=data, ax=ax[2,1])"
   ]
  },
  {
   "cell_type": "code",
   "execution_count": null,
   "metadata": {
    "slideshow": {
     "slide_type": "slide"
    }
   },
   "outputs": [],
   "source": [
    "fig, ax = plt.subplots(1,1)\n",
    "plt.subplots_adjust(wspace=.5, hspace=.2)\n",
    "fig.set_figwidth(20)\n",
    "fig.set_figheight(15)\n",
    "seaborn.set_style(\"dark\")\n",
    "x1 = list(data[data['Category'] == 'Application']['Duration Mean'])\n",
    "x2 = list(data[data['Category'] == 'Network']['Duration Mean'])\n",
    "x3 = list(data[data['Category'] == 'Hardware']['Duration Mean'])\n",
    "x4 = list(data[data['Category'] == 'Environment']['Duration Mean'])\n",
    "x5 = list(data[data['Category'] == 'Security']['Duration Mean'])\n",
    "x6 = list(data[data['Category'] == 'Infrastructure']['Duration Mean'])\n",
    "x7 = list(data[data['Category'] == 'Inquiry / Help']['Duration Mean'])\n",
    "x8 = list(data[data['Category'] == 'Telephony']['Duration Mean'])\n",
    "x9 = list(data[data['Category'] == 'Other']['Duration Mean'])\n",
    "\n",
    "\n",
    "# Assign colors for each airline and the names\n",
    "colors = ['#0039A6', '#FF6319', '#6CBE45', '#996633', '#FCCC0A', '#EE352E', '#B933AD', '#00A1DE', '#00933C']\n",
    "names = ['Application', 'Network', 'Hardware', 'Environment', 'Security', \n",
    "         'Infrastructure', 'Inquiry / Help', 'Telephony', 'Other']\n",
    "         \n",
    "# Make the histogram using a list of lists\n",
    "# Normalize the flights and assign colors and names\n",
    "plt.hist([x1, x2, x3, x4, x5, x6, x7, x8, x9], bins = int(180/30), normed=False,\n",
    "         color = colors, label=names)\n",
    "\n",
    "plt.legend()\n",
    "plt.xlabel('Duration Mean')\n",
    "plt.ylabel('Normalized Count')\n",
    "plt.title('Duration by Category (Normed)')\n",
    "plt.savefig(\"DurationByCategory.png\")"
   ]
  },
  {
   "cell_type": "code",
   "execution_count": null,
   "metadata": {},
   "outputs": [],
   "source": [
    "fig, ax = plt.subplots(1,1)\n",
    "plt.subplots_adjust(wspace=.5, hspace=.2)\n",
    "fig.set_figwidth(20)\n",
    "fig.set_figheight(15)\n",
    "seaborn.set_style(\"dark\")\n",
    "x1 = list(data[data['Category'] == 'Application']['Reassignment count'])\n",
    "x2 = list(data[data['Category'] == 'Network']['Reassignment count'])\n",
    "x3 = list(data[data['Category'] == 'Hardware']['Reassignment count'])\n",
    "x4 = list(data[data['Category'] == 'Environment']['Reassignment count'])\n",
    "x5 = list(data[data['Category'] == 'Security']['Reassignment count'])\n",
    "x6 = list(data[data['Category'] == 'Infrastructure']['Reassignment count'])\n",
    "x7 = list(data[data['Category'] == 'Inquiry / Help']['Reassignment count'])\n",
    "x8 = list(data[data['Category'] == 'Telephony']['Reassignment count'])\n",
    "x9 = list(data[data['Category'] == 'Other']['Reassignment count'])\n",
    "\n",
    "\n",
    "# Assign colors for each airline and the names\n",
    "colors = ['#0039A6', '#FF6319', '#6CBE45', '#996633', '#FCCC0A', '#EE352E', '#B933AD', '#00A1DE', '#00933C']\n",
    "names = ['Application', 'Network', 'Hardware', 'Environment', 'Security', \n",
    "         'Infrastructure', 'Inquiry / Help', 'Telephony', 'Other']\n",
    "         \n",
    "# Make the histogram using a list of lists\n",
    "# Normalize the flights and assign colors and names\n",
    "plt.hist([x1, x2, x3, x4, x5, x6, x7, x8, x9], bins = int(180/30), normed=False,\n",
    "         color = colors, label=names)\n",
    "\n",
    "plt.legend()\n",
    "plt.xlabel('Reassignment Count')\n",
    "plt.ylabel('Count')\n",
    "plt.title('Reassignment Count')\n",
    "plt.savefig(\"ReassignmentCountByCategory.png\")"
   ]
  },
  {
   "cell_type": "code",
   "execution_count": null,
   "metadata": {},
   "outputs": [],
   "source": [
    "fig, ax = plt.subplots(1,1)\n",
    "plt.subplots_adjust(wspace=.5, hspace=.2)\n",
    "fig.set_figwidth(20)\n",
    "fig.set_figheight(15)\n",
    "seaborn.set_style(\"dark\")\n",
    "\n",
    "categories = ['Application', 'Network', 'Hardware', 'Environment', 'Security', \n",
    "         'Infrastructure', 'Inquiry / Help', 'Telephony']\n",
    "\n",
    "colors = ['#0039A6', '#FF6319', '#6CBE45', '#996633', '#FCCC0A', '#EE352E', '#B933AD', '#00A1DE', '#00933C']\n",
    "\n",
    "for cat in categories:\n",
    "    # Subset to the airline\n",
    "    subset = data[data['Category'] == cat]\n",
    "    \n",
    "    # Draw the density plot\n",
    "    seaborn.distplot(subset['Updates'], hist = False, kde = True,\n",
    "                 kde_kws = {'linewidth': 3},\n",
    "                 label = cat)\n",
    "    \n",
    "# Plot formatting\n",
    "\n",
    "\n",
    "# Assign colors for each airline and the names\n",
    "         \n",
    "# Make the histogram using a list of lists\n",
    "# Normalize the flights and assign colors and names\n",
    "\n",
    "plt.legend(prop={'size': 16}, title = 'Category')\n",
    "plt.xlabel('Num Updates')\n",
    "plt.ylabel('Count')\n",
    "plt.title('Count of Updates by Category')\n",
    "plt.savefig(\"UpdatesByCategory.png\")"
   ]
  },
  {
   "cell_type": "code",
   "execution_count": null,
   "metadata": {},
   "outputs": [],
   "source": [
    "fig, ax = plt.subplots(1,1)\n",
    "plt.subplots_adjust(wspace=.5, hspace=.2)\n",
    "fig.set_figwidth(20)\n",
    "fig.set_figheight(15)\n",
    "seaborn.set_style(\"dark\")\n",
    "\n",
    "categories = ['Application', 'Network', 'Hardware', 'Environment', 'Security', \n",
    "         'Infrastructure', 'Inquiry / Help', 'Telephony']\n",
    "\n",
    "colors = ['#0039A6', '#FF6319', '#6CBE45', '#996633', '#FCCC0A', '#EE352E', '#B933AD', '#00A1DE', '#00933C']\n",
    "\n",
    "for cat in categories:\n",
    "    # Subset to the airline\n",
    "    subset = data[data['Category'] == cat]\n",
    "    \n",
    "    # Draw the density plot\n",
    "    seaborn.distplot(subset['Reassignment count'], hist = False, kde = True,\n",
    "                 kde_kws = {'linewidth': 3},\n",
    "                 label = cat)\n",
    "    \n",
    "# Plot formatting\n",
    "\n",
    "\n",
    "# Assign colors for each airline and the names\n",
    "         \n",
    "# Make the histogram using a list of lists\n",
    "# Normalize the flights and assign colors and names\n",
    "\n",
    "plt.legend(prop={'size': 16}, title = 'Category')\n",
    "plt.xlabel('Num Reassignments')\n",
    "plt.ylabel('Count')\n",
    "plt.title('Reassignment Count by Category')\n",
    "plt.savefig(\"ReassignCountByCategory.png\")"
   ]
  },
  {
   "cell_type": "code",
   "execution_count": null,
   "metadata": {},
   "outputs": [],
   "source": [
    "fig, ax = plt.subplots(3,2)\n",
    "plt.subplots_adjust(wspace=.5, hspace=.2)\n",
    "fig.set_figwidth(20)\n",
    "fig.set_figheight(15)\n",
    "seaborn.set_style(\"dark\")\n",
    "seaborn.violinplot('Duration Mean', 'Business service', errwidth=0, data=data, ax=ax[0,0])\n",
    "seaborn.violinplot('Duration Mean', 'Category', errwidth=0, data=data, ax=ax[0,1])\n",
    "seaborn.violinplot('Duration Mean', 'Problem Manager', errwidth=0, data=data, ax=ax[1,0])\n",
    "seaborn.violinplot('Duration Mean', 'Assignment group', errwidth=0, data=data, ax=ax[1,1])\n",
    "seaborn.violinplot('Duration Mean', 'Company', errwidth=0, data=data, ax=ax[2,0])\n",
    "seaborn.violinplot('Duration Mean', 'Created Time', errwidth=0, data=data, ax=ax[2,1])"
   ]
  },
  {
   "cell_type": "code",
   "execution_count": null,
   "metadata": {},
   "outputs": [],
   "source": []
  },
  {
   "cell_type": "code",
   "execution_count": null,
   "metadata": {},
   "outputs": [],
   "source": [
    "corr = data.corr()\n",
    "seaborn.heatmap(corr, \n",
    "            xticklabels=corr.columns.values,\n",
    "            yticklabels=corr.columns.values)"
   ]
  },
  {
   "cell_type": "code",
   "execution_count": null,
   "metadata": {},
   "outputs": [],
   "source": []
  }
 ],
 "metadata": {
  "kernelspec": {
   "display_name": "Python 3",
   "language": "python",
   "name": "python3"
  },
  "language_info": {
   "codemirror_mode": {
    "name": "ipython",
    "version": 3
   },
   "file_extension": ".py",
   "mimetype": "text/x-python",
   "name": "python",
   "nbconvert_exporter": "python",
   "pygments_lexer": "ipython3",
   "version": "3.6.6"
  }
 },
 "nbformat": 4,
 "nbformat_minor": 2
}
